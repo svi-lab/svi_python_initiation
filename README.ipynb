{
 "cells": [
  {
   "cell_type": "markdown",
   "id": "9cb789dd-d153-489d-9e3d-1694b1ce2360",
   "metadata": {},
   "source": [
    "# svi_python_initiation\n",
    "<a name=\"logo\"></a>\n",
    "[<img width=\"100px\" src=\"./img/Logo_135_SGCNRSbis.png\"></img>](#logo)\n",
    "\n",
    "Support for the _scientific python initiation @svi course_\n",
    "\n",
    "\n",
    "\n",
    "## Things to do before we begin:\n",
    "\n",
    "### 1. Create a new conda environment on your computer\n",
    "* Open the Anaconda prompt.  \n",
    "* type `conda create -n svi_formation python=3.9`, (press enter to run the command)  \n",
    "* then type `conda activate svi_formation`  \n",
    "  * optionally: `conda install -c conda-forge mamba`  \n",
    "* then*: `conda install scipy numpy matplotlib scikit-image scikit-learn spyder jupyterlab ipympl`  \n",
    "  * *if you decided to install mamba, replace `conda` with `mamba` in previous line.  \n",
    "\n",
    "\n",
    "### 2. Download the material for this course (everything in this repository)\n",
    "Click on the (only) green button on this page and select the download option of your choosing. (don't worry, you can't break anything)\n",
    "\n",
    "### 3. Take a look at the basic topics we planned to cover\n",
    "<a name=\"plan\"></a>\n",
    "\n",
    "[<img width=\"100%\" src=\"./img/course_plan.svg\"></img>](#plan)\n",
    "\n",
    "All suggestions for additionnal topics are welcomed!  \n",
    "To submit your proposals, you can either use the Teams channel, either open an issue here (a-ha!). (the most voted ones are sure to enter the program)\n",
    "\n",
    "\n",
    "_Note_ : Almost **Everything** we'll do here is covered in [scipy-lectures](https://scipy-lectures.org/), only much better and by way much greater experts in the field.\n"
   ]
  },
  {
   "cell_type": "markdown",
   "id": "c3b3228b-8b02-4b0b-a728-f310f97a0354",
   "metadata": {},
   "source": [
    "------------------\n",
    "\n",
    "# Getting started with Python for science\n",
    "\n",
    "**Outline :**  \n",
    "\n",
    "0. [The Tools](./notebooks/000_Tools.ipynb) (10')\n",
    "1. [The Basics](./notebooks/100_Basics.ipynb) (1h30')\n",
    "    * [Loops](./notebooks/100_Basics.ipynb#Loops)\n",
    "    * [Basic types](./notebooks/100_Basics.ipynb#BasicTypes)\n",
    "    * [Sequences](./notebooks/100_Basics.ipynb#Sequences)\n",
    "    * [Functions](./notebooks/100_Basics.ipynb#Functions)\n",
    "    * [Exercises](./notebooks/100_Basics.ipynb#Exercises)\n",
    "3. Good practices for programming: [practical example](./good_practices.ipynb)\n",
    "\n",
    "**To learn more**\n",
    "- http://www.scipy-lectures.org/ : scientific Python tutorials\n",
    "- https://software-carpentry.org/ : good practices for programming\n",
    "- graphical galleries of examples: http://matplotlib.org/gallery.html, http://scikit-image.org/docs/dev/auto_examples/\n",
    "- http://www.labri.fr/perso/nrougier/teaching/numpy.100/\n",
    "- For Matlab users: https://docs.scipy.org/doc/numpy-1.15.0/user/numpy-for-matlab-users.html\n"
   ]
  },
  {
   "cell_type": "code",
   "execution_count": null,
   "id": "f9afbdd7-9141-415c-9fab-93dc0944204d",
   "metadata": {},
   "outputs": [],
   "source": []
  }
 ],
 "metadata": {
  "kernelspec": {
   "display_name": "3D",
   "language": "python",
   "name": "3d"
  },
  "language_info": {
   "codemirror_mode": {
    "name": "ipython",
    "version": 3
   },
   "file_extension": ".py",
   "mimetype": "text/x-python",
   "name": "python",
   "nbconvert_exporter": "python",
   "pygments_lexer": "ipython3",
   "version": "3.8.5"
  }
 },
 "nbformat": 4,
 "nbformat_minor": 5
}
