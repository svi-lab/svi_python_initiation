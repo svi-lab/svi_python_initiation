{
 "cells": [
  {
   "cell_type": "markdown",
   "id": "472913c6-7990-45f2-b287-a883c269b84d",
   "metadata": {},
   "source": [
    "## 1. Anaconda prompt (windows), terminal (mac, linux)\n",
    "For managing environments, installing/updating/removing packages, ipython\n",
    "\n",
    "### 1.1. Managing Environments\n",
    "https://docs.conda.io/projects/conda/en/latest/user-guide/tasks/manage-environments.html\n",
    "\n",
    "Some basic commands:\n",
    "*  `conda env list` (to show available environments)\n",
    "*  `conda create -n <YourNewEnvironmentsName> [list of modules to install with spaces between them]`\n",
    "*  `conda env export --from-history > environment.yml` - for exporting and sharing an environment\n",
    "*  `conda env create -f environment.yml` for recreating the exported environement\n",
    "\n",
    "### 1.2. Managing Modules\n",
    "\n",
    "*  `conda install [-c channel-name] <package-name[=version]>`\n",
    "*  `conda remove <package-name>`\n",
    "*  `conda update <package-name>`\n",
    "*  `conda list [package-name]`"
   ]
  },
  {
   "cell_type": "code",
   "execution_count": 2,
   "id": "45989258-5daa-4226-a230-9f0908c6971f",
   "metadata": {},
   "outputs": [
    {
     "name": "stdout",
     "output_type": "stream",
     "text": [
      "# packages in environment at /home/dejan/anaconda3:\n",
      "#\n",
      "# Name                    Version                   Build  Channel\n",
      "numpy                     1.20.2           py39hdbf815f_0    conda-forge\n",
      "numpy-base                1.19.2           py39h2ae0177_0  \n",
      "numpydoc                  1.1.0              pyhd3eb1b0_1  \n"
     ]
    }
   ],
   "source": [
    "# you can do this from withing the ipython\n",
    "!conda list numpy"
   ]
  },
  {
   "cell_type": "markdown",
   "id": "77c2b1bb-1d6c-4b5b-a870-66c236a28bc7",
   "metadata": {},
   "source": [
    "\n",
    "## 2. Jupyter\n",
    "Good for presentations, for reports, data exploration\n",
    "![jupyterlab screenshot](../img/screenshot_jupyterlab.png \"JupyterLab\")\n",
    "\n",
    "To execute/validate the content of a Cell in Jupyter: SHIFT+ENTER (CTR + ENTER)\n",
    "\n",
    "## 3. Spyder\n",
    "Better suited for production, bigger projetcs, modules\n",
    "![spyder screenshot](../img/screenshot_spyder2.png \"Spyder\")\n",
    "\n"
   ]
  },
  {
   "cell_type": "markdown",
   "id": "8596a3e3-81e8-444a-8727-386fe324e191",
   "metadata": {},
   "source": [
    "On to [The Basics](100_Basics.ipynb)"
   ]
  },
  {
   "cell_type": "code",
   "execution_count": null,
   "id": "ca964ee7-6b01-495d-8fe0-c5454980b5e1",
   "metadata": {},
   "outputs": [],
   "source": []
  }
 ],
 "metadata": {
  "kernelspec": {
   "display_name": "3D",
   "language": "python",
   "name": "3d"
  },
  "language_info": {
   "codemirror_mode": {
    "name": "ipython",
    "version": 3
   },
   "file_extension": ".py",
   "mimetype": "text/x-python",
   "name": "python",
   "nbconvert_exporter": "python",
   "pygments_lexer": "ipython3",
   "version": "3.8.5"
  }
 },
 "nbformat": 4,
 "nbformat_minor": 5
}
