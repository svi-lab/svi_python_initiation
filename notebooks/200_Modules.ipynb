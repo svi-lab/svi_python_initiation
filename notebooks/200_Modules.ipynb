{
 "cells": [
  {
   "cell_type": "markdown",
   "id": "0b3da044-ed69-4ead-baaf-e47c1e52998c",
   "metadata": {},
   "source": [
    "<a name=\"plan\"></a>\n",
    "\n",
    "[<img width=\"100%\" src=\"../img/Modules.svg\"></img>](#plan)"
   ]
  },
  {
   "cell_type": "code",
   "execution_count": 1,
   "id": "bde54257-7219-49d9-ab18-6abe480dfb82",
   "metadata": {},
   "outputs": [],
   "source": [
    "indices = [1, 4, 7, 16, 19, 20]\n",
    "templist = [[1, 2, 3, 4, 5, 6, 7, 8, 9, 10, 11, 12, 13, 14, 15, 16, 17, 18, 19, 20, 21]]"
   ]
  },
  {
   "cell_type": "code",
   "execution_count": 3,
   "id": "63b83703-27da-41e5-9c07-cd168871b60a",
   "metadata": {},
   "outputs": [
    {
     "data": {
      "text/plain": [
       "[2, 5, 8, 17, 20, 21]"
      ]
     },
     "execution_count": 3,
     "metadata": {},
     "output_type": "execute_result"
    }
   ],
   "source": [
    "[templist[0][i] for i in indices]"
   ]
  },
  {
   "cell_type": "code",
   "execution_count": 4,
   "id": "af724acb-1e86-4a14-b21d-2e9c7c98387c",
   "metadata": {},
   "outputs": [],
   "source": [
    "from itertools import filterfalse"
   ]
  },
  {
   "cell_type": "code",
   "execution_count": 10,
   "id": "f4ac64d8-2c61-4386-8aab-46ba8de9b035",
   "metadata": {},
   "outputs": [
    {
     "data": {
      "text/plain": [
       "[1, 4, 7, 16, 19, 20]"
      ]
     },
     "execution_count": 10,
     "metadata": {},
     "output_type": "execute_result"
    }
   ],
   "source": [
    "list(filterfalse(lambda x: x not in indices, templist[0]))"
   ]
  },
  {
   "cell_type": "code",
   "execution_count": 8,
   "id": "667b3b11-c625-42d2-9d95-9193f91d33ba",
   "metadata": {},
   "outputs": [
    {
     "data": {
      "text/plain": [
       "[True,\n",
       " False,\n",
       " False,\n",
       " True,\n",
       " False,\n",
       " False,\n",
       " True,\n",
       " False,\n",
       " False,\n",
       " False,\n",
       " False,\n",
       " False,\n",
       " False,\n",
       " False,\n",
       " False,\n",
       " True,\n",
       " False,\n",
       " False,\n",
       " True,\n",
       " True,\n",
       " False]"
      ]
     },
     "execution_count": 8,
     "metadata": {},
     "output_type": "execute_result"
    }
   ],
   "source": [
    "[x in indices for x in templist[0]]"
   ]
  },
  {
   "cell_type": "code",
   "execution_count": 9,
   "id": "a4454bcc-e874-4091-bfd7-54a44d1ea00f",
   "metadata": {},
   "outputs": [
    {
     "data": {
      "text/plain": [
       "[1, 4, 7, 16, 19, 20]"
      ]
     },
     "execution_count": 9,
     "metadata": {},
     "output_type": "execute_result"
    }
   ],
   "source": [
    "[x for x in templist[0] if x in indices]"
   ]
  },
  {
   "cell_type": "code",
   "execution_count": null,
   "id": "00c56c03-61d7-499f-83e4-0c3bd9de3459",
   "metadata": {},
   "outputs": [],
   "source": []
  }
 ],
 "metadata": {
  "kernelspec": {
   "display_name": "3D",
   "language": "python",
   "name": "3d"
  },
  "language_info": {
   "codemirror_mode": {
    "name": "ipython",
    "version": 3
   },
   "file_extension": ".py",
   "mimetype": "text/x-python",
   "name": "python",
   "nbconvert_exporter": "python",
   "pygments_lexer": "ipython3",
   "version": "3.8.5"
  }
 },
 "nbformat": 4,
 "nbformat_minor": 5
}
