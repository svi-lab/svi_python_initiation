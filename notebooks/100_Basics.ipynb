{
 "cells": [
  {
   "cell_type": "markdown",
   "id": "b510a7e1-8f43-4e3c-bd24-983cfd10b73b",
   "metadata": {},
   "source": []
  },
  {
   "cell_type": "markdown",
   "id": "b997b740-053e-4ed2-9c6f-650a8ff7c437",
   "metadata": {},
   "source": [
    "<a name=\"plan\"></a>\n",
    "\n",
    "[<img width=\"100%\" src=\"../img/Basics.svg\"></img>](#plan)"
   ]
  },
  {
   "cell_type": "markdown",
   "id": "24c38bec-e56f-408a-b411-9595f697754c",
   "metadata": {},
   "source": [
    "# 1. <a id=\"Loops\"></a>Loops\n",
    "```Python\n",
    "# The FOR loop:\n",
    "for x in my_iterable_object:\n",
    "    print(x)\n",
    "\n",
    "# The WHILE loop:\n",
    "i = 0\n",
    "while i < 5:\n",
    "    print(i**2)\n",
    "    i = i + 1\n",
    "```\n",
    "\n",
    "You've probably familiar with the `if... else` statements.  \n",
    "Note that in python you can also add the `else` statement in `for` and `while` loops.  \n",
    "Use `break` to get out of the loop, use `continue` to skip the current iteration."
   ]
  },
  {
   "cell_type": "markdown",
   "id": "66b0297e-b740-4a80-9739-f1598c1d0724",
   "metadata": {},
   "source": [
    "# 2. <a id=\"BasicTypes\"></a>Basic types\n",
    "\n",
    "## 2.1. Booleans\n",
    "\n",
    "Important thing to note here is that in Python, the boolean `True` is (for all intents and purposes) \"the same\" as integer `1`, and similarily:"
   ]
  },
  {
   "cell_type": "code",
   "execution_count": 1,
   "id": "e4012849-296f-44cb-93e3-a0f15a7c0f41",
   "metadata": {
    "collapsed": true,
    "jupyter": {
     "outputs_hidden": true
    }
   },
   "outputs": [
    {
     "data": {
      "text/plain": [
       "True"
      ]
     },
     "execution_count": 1,
     "metadata": {},
     "output_type": "execute_result"
    }
   ],
   "source": [
    "False == 0"
   ]
  },
  {
   "cell_type": "markdown",
   "id": "f3565d3a-054e-4299-8073-c734dd5614b8",
   "metadata": {},
   "source": [
    "### Basic logic operations\n",
    "\n",
    "We have (in order of priority) \n",
    "```Python\n",
    "not\n",
    "and\n",
    "or\n",
    "```"
   ]
  },
  {
   "cell_type": "code",
   "execution_count": 2,
   "id": "dce456e5-e56b-4d09-833f-edbbbab3abbb",
   "metadata": {
    "collapsed": true,
    "jupyter": {
     "outputs_hidden": true
    }
   },
   "outputs": [
    {
     "data": {
      "text/plain": [
       "True"
      ]
     },
     "execution_count": 2,
     "metadata": {},
     "output_type": "execute_result"
    }
   ],
   "source": [
    "# The removal of which parenthesis doesn't change the following expression?\n",
    "(True and False) or not (True and False)"
   ]
  },
  {
   "cell_type": "code",
   "execution_count": 3,
   "id": "c1a55ee5-e9da-4a7f-8d4d-899a63cb4c4d",
   "metadata": {
    "collapsed": true,
    "jupyter": {
     "outputs_hidden": true
    }
   },
   "outputs": [
    {
     "data": {
      "text/plain": [
       "bool"
      ]
     },
     "execution_count": 3,
     "metadata": {},
     "output_type": "execute_result"
    }
   ],
   "source": [
    "type(True)"
   ]
  },
  {
   "cell_type": "code",
   "execution_count": 4,
   "id": "89a76d24-1053-41d0-96bd-189ed765c3c1",
   "metadata": {
    "collapsed": true,
    "jupyter": {
     "outputs_hidden": true
    }
   },
   "outputs": [
    {
     "data": {
      "text/plain": [
       "True"
      ]
     },
     "execution_count": 4,
     "metadata": {},
     "output_type": "execute_result"
    }
   ],
   "source": [
    "bool(5)"
   ]
  },
  {
   "cell_type": "code",
   "execution_count": 5,
   "id": "28788fb0-2c8b-474e-ae86-96816d4d7671",
   "metadata": {
    "collapsed": true,
    "jupyter": {
     "outputs_hidden": true
    }
   },
   "outputs": [
    {
     "name": "stdout",
     "output_type": "stream",
     "text": [
      "hello\n"
     ]
    }
   ],
   "source": [
    "if 'not empty': # non-zero number, not empty list, etc.\n",
    "    print(\"hello\")"
   ]
  },
  {
   "cell_type": "markdown",
   "id": "ad8b4934-848d-4904-a25c-9a69afa32431",
   "metadata": {},
   "source": [
    "## 2.2. Numerical\n",
    "\n",
    "`int`, `float`, `complex`"
   ]
  },
  {
   "cell_type": "code",
   "execution_count": 6,
   "id": "2c1a03b8-6253-4cb0-a652-dbba83325234",
   "metadata": {
    "collapsed": true,
    "jupyter": {
     "outputs_hidden": true
    }
   },
   "outputs": [
    {
     "data": {
      "text/plain": [
       "(-1.2000000000000002+2j)"
      ]
     },
     "execution_count": 6,
     "metadata": {},
     "output_type": "execute_result"
    }
   ],
   "source": [
    "3+2j - 4.2"
   ]
  },
  {
   "cell_type": "code",
   "execution_count": 7,
   "id": "fcf0a9a5-fcb1-4e2a-ad89-83e075dc5348",
   "metadata": {
    "collapsed": true,
    "jupyter": {
     "outputs_hidden": true
    }
   },
   "outputs": [
    {
     "name": "stdout",
     "output_type": "stream",
     "text": [
      "This is the memory value of your float:\n",
      "4.20000000000000017763568394002504646778106689453125\n"
     ]
    }
   ],
   "source": [
    "print(f\"This is the memory value of your float:\\n{4.2:.50f}\")"
   ]
  },
  {
   "cell_type": "markdown",
   "id": "42f01e21-b03b-4e73-9587-1cf5953d602c",
   "metadata": {},
   "source": [
    "For more information on why is this the case, visit https://docs.python.org/3/tutorial/floatingpoint.html  \n",
    "In short, it's the consequence of your machine being bound to translate everything into binary, and in binary code 0.1 is infinite decimal, so it must inevitably be rounded somewhere."
   ]
  },
  {
   "cell_type": "code",
   "execution_count": 8,
   "id": "24b753a6-74da-43c1-ac3e-00a84a153521",
   "metadata": {
    "collapsed": true,
    "jupyter": {
     "outputs_hidden": true
    }
   },
   "outputs": [
    {
     "data": {
      "text/plain": [
       "False"
      ]
     },
     "execution_count": 8,
     "metadata": {},
     "output_type": "execute_result"
    }
   ],
   "source": [
    "# This cell should be revisited after learning about lists\n",
    "sum([0.1] * 10) == 1"
   ]
  },
  {
   "cell_type": "code",
   "execution_count": 9,
   "id": "31c814dd-6f77-4cc9-8a82-f3e65606f64e",
   "metadata": {
    "collapsed": true,
    "jupyter": {
     "outputs_hidden": true
    }
   },
   "outputs": [
    {
     "data": {
      "text/plain": [
       "(3602879701896397, 36028797018963968)"
      ]
     },
     "execution_count": 9,
     "metadata": {},
     "output_type": "execute_result"
    }
   ],
   "source": [
    "0.1.as_integer_ratio()"
   ]
  },
  {
   "cell_type": "code",
   "execution_count": 10,
   "id": "dadcaa87-2855-425b-9d78-62df85108d15",
   "metadata": {
    "collapsed": true,
    "jupyter": {
     "outputs_hidden": true
    }
   },
   "outputs": [
    {
     "data": {
      "text/plain": [
       "2.0"
      ]
     },
     "execution_count": 10,
     "metadata": {},
     "output_type": "execute_result"
    }
   ],
   "source": [
    "float('2')"
   ]
  },
  {
   "cell_type": "code",
   "execution_count": 11,
   "id": "cbd7fc37-c295-4c0f-9817-bae145e8144a",
   "metadata": {
    "collapsed": true,
    "jupyter": {
     "outputs_hidden": true
    }
   },
   "outputs": [
    {
     "data": {
      "text/plain": [
       "True"
      ]
     },
     "execution_count": 11,
     "metadata": {},
     "output_type": "execute_result"
    }
   ],
   "source": [
    "'3'.isnumeric()"
   ]
  },
  {
   "cell_type": "markdown",
   "id": "406e3b2f-c1b7-459c-a342-c476ff486d36",
   "metadata": {},
   "source": [
    "### Operations"
   ]
  },
  {
   "cell_type": "code",
   "execution_count": 12,
   "id": "5ee1e8d6-3869-4e73-829d-9a1f7132f365",
   "metadata": {
    "collapsed": true,
    "jupyter": {
     "outputs_hidden": true
    }
   },
   "outputs": [
    {
     "data": {
      "text/plain": [
       "81"
      ]
     },
     "execution_count": 12,
     "metadata": {},
     "output_type": "execute_result"
    }
   ],
   "source": [
    "9**2"
   ]
  },
  {
   "cell_type": "code",
   "execution_count": 13,
   "id": "64858260-5003-48df-8818-9cfc6f58819a",
   "metadata": {
    "collapsed": true,
    "jupyter": {
     "outputs_hidden": true
    }
   },
   "outputs": [
    {
     "data": {
      "text/plain": [
       "3"
      ]
     },
     "execution_count": 13,
     "metadata": {},
     "output_type": "execute_result"
    }
   ],
   "source": [
    "14//4 # integer result of the division"
   ]
  },
  {
   "cell_type": "code",
   "execution_count": 14,
   "id": "18830dc7-9f49-4b6c-b7f8-8aff6252dde3",
   "metadata": {
    "collapsed": true,
    "jupyter": {
     "outputs_hidden": true
    }
   },
   "outputs": [
    {
     "data": {
      "text/plain": [
       "2"
      ]
     },
     "execution_count": 14,
     "metadata": {},
     "output_type": "execute_result"
    }
   ],
   "source": [
    "14%4 # modulo"
   ]
  },
  {
   "cell_type": "code",
   "execution_count": 15,
   "id": "15415c3e-6dd4-42e3-b575-af69383844c4",
   "metadata": {
    "collapsed": true,
    "jupyter": {
     "outputs_hidden": true
    }
   },
   "outputs": [
    {
     "name": "stdout",
     "output_type": "stream",
     "text": [
      "14 is equal to 3 x 4 + 2\n"
     ]
    }
   ],
   "source": [
    "my_nb = 14\n",
    "my_div = 4\n",
    "print(f'{my_nb} is equal to {my_nb // my_div} x 4 + {my_nb % my_div}')"
   ]
  },
  {
   "cell_type": "code",
   "execution_count": 16,
   "id": "d54eaeeb-e495-4a7d-8538-e09778b5b37a",
   "metadata": {
    "collapsed": true,
    "jupyter": {
     "outputs_hidden": true
    }
   },
   "outputs": [
    {
     "data": {
      "text/plain": [
       "5.0"
      ]
     },
     "execution_count": 16,
     "metadata": {},
     "output_type": "execute_result"
    }
   ],
   "source": [
    "1.0 * 5"
   ]
  },
  {
   "cell_type": "markdown",
   "id": "4a92bf31-aa7c-409f-81f8-c1f77126b39c",
   "metadata": {},
   "source": [
    "## 2.3. Strings\n",
    "```Python\n",
    "this_is_string = 'whatever'\n",
    "this_is_also_a_string = \"it's now or never\"\n",
    "this_is_docstring = '''This may spread over\n",
    "                        multiple lines.\n",
    "                        Usually used at the beggining of a function definition,\n",
    "                        to explain what your function does.'''\n",
    "```\n",
    "If you want to combine variables with text, then the \"f-strings\" are the way.\n",
    "```Python\n",
    "my_variable = 18\n",
    "also_a_string = f\"My contract ends in {my_variable} months. I don't have time to learn Python.\"\n",
    "```"
   ]
  },
  {
   "cell_type": "markdown",
   "id": "16f949d6-ff5d-437e-85b8-32098fdcbf6c",
   "metadata": {},
   "source": [
    "# 3. <a id=\"Sequences\"></a>Sequences\n",
    "```Python\n",
    "range\n",
    "tuple\n",
    "list\n",
    "```"
   ]
  },
  {
   "cell_type": "markdown",
   "id": "1d2c41b4-99eb-4503-a89d-60a08be5b28f",
   "metadata": {},
   "source": [
    "## 3.1. Tuple\n",
    "**Immutable**"
   ]
  },
  {
   "cell_type": "markdown",
   "id": "ee33d987-3a60-4438-bbc9-1a4a172ade02",
   "metadata": {},
   "source": [
    "Elements can be of heterogenous types."
   ]
  },
  {
   "cell_type": "code",
   "execution_count": 17,
   "id": "f849abbd-f5e7-43ba-8948-f678b54a3cd6",
   "metadata": {
    "collapsed": true,
    "jupyter": {
     "outputs_hidden": true
    }
   },
   "outputs": [],
   "source": [
    "my_tuple = (4, (3, 'r', 5.2, 'klh', 4), 1e4, 'last')"
   ]
  },
  {
   "cell_type": "markdown",
   "id": "53f91e5b-a9a7-454f-930a-3cbe5acf8751",
   "metadata": {},
   "source": [
    "Basic indexing:  \n",
    "  - **starts with 0**  \n",
    "  - slices\n",
    "  - steps"
   ]
  },
  {
   "cell_type": "code",
   "execution_count": 18,
   "id": "b5b7c62a-b5f7-4a67-bf8f-2f68c34355d4",
   "metadata": {
    "collapsed": true,
    "jupyter": {
     "outputs_hidden": true
    }
   },
   "outputs": [
    {
     "data": {
      "text/plain": [
       "(3, 'r', 5.2)"
      ]
     },
     "execution_count": 18,
     "metadata": {},
     "output_type": "execute_result"
    }
   ],
   "source": [
    "my_tuple[1][:3]"
   ]
  },
  {
   "cell_type": "code",
   "execution_count": 19,
   "id": "17c9f629-2cc7-48c4-800c-233b89a5b39f",
   "metadata": {
    "collapsed": true,
    "jupyter": {
     "outputs_hidden": true
    }
   },
   "outputs": [
    {
     "ename": "TypeError",
     "evalue": "tuple indices must be integers or slices, not list",
     "output_type": "error",
     "traceback": [
      "\u001b[0;31m---------------------------------------------------------------------------\u001b[0m",
      "\u001b[0;31mTypeError\u001b[0m                                 Traceback (most recent call last)",
      "\u001b[0;32m<ipython-input-19-29054f8ad655>\u001b[0m in \u001b[0;36m<module>\u001b[0;34m\u001b[0m\n\u001b[1;32m      1\u001b[0m \u001b[0;31m# But, you can't do:\u001b[0m\u001b[0;34m\u001b[0m\u001b[0;34m\u001b[0m\u001b[0;34m\u001b[0m\u001b[0m\n\u001b[0;32m----> 2\u001b[0;31m \u001b[0mmy_tuple\u001b[0m\u001b[0;34m[\u001b[0m\u001b[0;34m[\u001b[0m\u001b[0;36m1\u001b[0m\u001b[0;34m,\u001b[0m\u001b[0;36m2\u001b[0m\u001b[0;34m]\u001b[0m\u001b[0;34m]\u001b[0m\u001b[0;34m\u001b[0m\u001b[0;34m\u001b[0m\u001b[0m\n\u001b[0m",
      "\u001b[0;31mTypeError\u001b[0m: tuple indices must be integers or slices, not list"
     ]
    }
   ],
   "source": [
    "# But, you can't do:\n",
    "my_tuple[[1,2]]"
   ]
  },
  {
   "cell_type": "code",
   "execution_count": 20,
   "id": "0cd49d6f-d531-4ba2-959b-63f799c82d51",
   "metadata": {
    "collapsed": true,
    "jupyter": {
     "outputs_hidden": true
    }
   },
   "outputs": [
    {
     "data": {
      "text/plain": [
       "((3, 'r', 5.2, 'klh', 4), 10000.0)"
      ]
     },
     "execution_count": 20,
     "metadata": {},
     "output_type": "execute_result"
    }
   ],
   "source": [
    "# Unless:\n",
    "from operator import itemgetter\n",
    "\n",
    "g = itemgetter(1,2)\n",
    "g(my_tuple)"
   ]
  },
  {
   "cell_type": "code",
   "execution_count": 21,
   "id": "2e5500b3-bfe6-4aae-810b-f5834cc02a19",
   "metadata": {
    "collapsed": true,
    "jupyter": {
     "outputs_hidden": true
    }
   },
   "outputs": [
    {
     "data": {
      "text/plain": [
       "(4, (3, 'r', 5.2, 'klh', 4), 10000.0, 'last', 3, 4)"
      ]
     },
     "execution_count": 21,
     "metadata": {},
     "output_type": "execute_result"
    }
   ],
   "source": [
    "extended_tuple = my_tuple + (3, 4)\n",
    "extended_tuple"
   ]
  },
  {
   "cell_type": "code",
   "execution_count": 22,
   "id": "f8b97abb-4441-42d4-ac90-2946401bac37",
   "metadata": {
    "collapsed": true,
    "jupyter": {
     "outputs_hidden": true
    }
   },
   "outputs": [
    {
     "data": {
      "text/plain": [
       "(4,\n",
       " (3, 'r', 5.2, 'klh', 4),\n",
       " 10000.0,\n",
       " 'last',\n",
       " 4,\n",
       " (3, 'r', 5.2, 'klh', 4),\n",
       " 10000.0,\n",
       " 'last',\n",
       " 4,\n",
       " (3, 'r', 5.2, 'klh', 4),\n",
       " 10000.0,\n",
       " 'last')"
      ]
     },
     "execution_count": 22,
     "metadata": {},
     "output_type": "execute_result"
    }
   ],
   "source": [
    "3 * my_tuple"
   ]
  },
  {
   "cell_type": "code",
   "execution_count": 23,
   "id": "44ad0b2b-81e9-4b30-b458-f6c11d73ce6e",
   "metadata": {
    "collapsed": true,
    "jupyter": {
     "outputs_hidden": true
    }
   },
   "outputs": [
    {
     "ename": "TypeError",
     "evalue": "'tuple' object does not support item assignment",
     "output_type": "error",
     "traceback": [
      "\u001b[0;31m---------------------------------------------------------------------------\u001b[0m",
      "\u001b[0;31mTypeError\u001b[0m                                 Traceback (most recent call last)",
      "\u001b[0;32m<ipython-input-23-adc77368064f>\u001b[0m in \u001b[0;36m<module>\u001b[0;34m\u001b[0m\n\u001b[1;32m      1\u001b[0m \u001b[0;31m# But, since immutable:\u001b[0m\u001b[0;34m\u001b[0m\u001b[0;34m\u001b[0m\u001b[0;34m\u001b[0m\u001b[0m\n\u001b[0;32m----> 2\u001b[0;31m \u001b[0mmy_tuple\u001b[0m\u001b[0;34m[\u001b[0m\u001b[0;36m1\u001b[0m\u001b[0;34m]\u001b[0m \u001b[0;34m=\u001b[0m \u001b[0;34m'new value'\u001b[0m\u001b[0;34m\u001b[0m\u001b[0;34m\u001b[0m\u001b[0m\n\u001b[0m",
      "\u001b[0;31mTypeError\u001b[0m: 'tuple' object does not support item assignment"
     ]
    }
   ],
   "source": [
    "# But, since immutable:\n",
    "my_tuple[1] = 'new value'"
   ]
  },
  {
   "cell_type": "code",
   "execution_count": 24,
   "id": "daa65fae-4721-426c-8b35-c25d07b8cbab",
   "metadata": {
    "collapsed": true,
    "jupyter": {
     "outputs_hidden": true
    }
   },
   "outputs": [
    {
     "data": {
      "text/plain": [
       "6"
      ]
     },
     "execution_count": 24,
     "metadata": {},
     "output_type": "execute_result"
    }
   ],
   "source": [
    "len(extended_tuple)"
   ]
  },
  {
   "cell_type": "code",
   "execution_count": 25,
   "id": "5628a511-1a4f-432e-87db-a08845750a54",
   "metadata": {
    "collapsed": true,
    "jupyter": {
     "outputs_hidden": true
    }
   },
   "outputs": [
    {
     "data": {
      "text/plain": [
       "0"
      ]
     },
     "execution_count": 25,
     "metadata": {},
     "output_type": "execute_result"
    }
   ],
   "source": [
    "extended_tuple.index(4)#count(4)"
   ]
  },
  {
   "cell_type": "markdown",
   "id": "e7f199bd-7163-49e1-a427-a1f2037fc19a",
   "metadata": {},
   "source": [
    "## 3.2. Range"
   ]
  },
  {
   "cell_type": "code",
   "execution_count": 26,
   "id": "9cfdad6d-82eb-4ad6-aa30-3fca9663b307",
   "metadata": {
    "collapsed": true,
    "jupyter": {
     "outputs_hidden": true
    }
   },
   "outputs": [
    {
     "name": "stdout",
     "output_type": "stream",
     "text": [
      "0\n",
      "1\n",
      "4\n",
      "9\n",
      "16\n"
     ]
    }
   ],
   "source": [
    "# range is like a \"lazy tuple\" used for counting:\n",
    "for i in range(5):\n",
    "    print(i**2)"
   ]
  },
  {
   "cell_type": "markdown",
   "id": "3ac6c880-3c49-49e3-963f-de44177d5a4c",
   "metadata": {},
   "source": [
    "## 3.3. List\n",
    "**Mutable**"
   ]
  },
  {
   "cell_type": "code",
   "execution_count": 27,
   "id": "ba8bf8f8-def9-42c4-ac06-269977116e9f",
   "metadata": {
    "collapsed": true,
    "jupyter": {
     "outputs_hidden": true
    }
   },
   "outputs": [],
   "source": [
    "my_list = ['lh', [4, 5, 3, 3, 3], 4e4]"
   ]
  },
  {
   "cell_type": "code",
   "execution_count": 28,
   "id": "99fd0a14-2963-47d3-8277-ae537ebbd2ea",
   "metadata": {
    "collapsed": true,
    "jupyter": {
     "outputs_hidden": true
    }
   },
   "outputs": [
    {
     "data": {
      "text/plain": [
       "['lh', [4, 5, 3, 3, 'new value'], 40000.0]"
      ]
     },
     "execution_count": 28,
     "metadata": {},
     "output_type": "execute_result"
    }
   ],
   "source": [
    "my_list[1][-1] = 'new value'\n",
    "my_list"
   ]
  },
  {
   "cell_type": "code",
   "execution_count": 29,
   "id": "48fbcbca-6e78-4bcb-887d-fc980309e915",
   "metadata": {
    "collapsed": true,
    "jupyter": {
     "outputs_hidden": true
    }
   },
   "outputs": [
    {
     "data": {
      "text/plain": [
       "[5, 10, 15, 20, 25, 30, 35, 40, 45, 50, 55, 60, 65, 70, 75, 80, 85, 90, 95]"
      ]
     },
     "execution_count": 29,
     "metadata": {},
     "output_type": "execute_result"
    }
   ],
   "source": [
    "my_list = list(range(5, 100, 5))\n",
    "my_list"
   ]
  },
  {
   "cell_type": "code",
   "execution_count": 30,
   "id": "997201c0-a2ef-420d-bea9-62509f24a9ce",
   "metadata": {
    "collapsed": true,
    "jupyter": {
     "outputs_hidden": true
    }
   },
   "outputs": [
    {
     "data": {
      "text/plain": [
       "[90, 80, 70, 60, 50, 40, 30, 20]"
      ]
     },
     "execution_count": 30,
     "metadata": {},
     "output_type": "execute_result"
    }
   ],
   "source": [
    "my_list[-2:2:-2]"
   ]
  },
  {
   "cell_type": "markdown",
   "id": "efcd300c-cb13-49b7-b1ed-2034736ac597",
   "metadata": {},
   "source": [
    "## Strings revisited\n",
    "Strings are also lists"
   ]
  },
  {
   "cell_type": "code",
   "execution_count": 31,
   "id": "8feb87ca-8f20-41a0-b5e8-f454b88cf89f",
   "metadata": {
    "collapsed": true,
    "jupyter": {
     "outputs_hidden": true
    }
   },
   "outputs": [],
   "source": [
    "my_string = 'Whatever'"
   ]
  },
  {
   "cell_type": "code",
   "execution_count": 32,
   "id": "5e1462be-052b-4ae6-bbc7-1f64e487c9a7",
   "metadata": {
    "collapsed": true,
    "jupyter": {
     "outputs_hidden": true
    }
   },
   "outputs": [
    {
     "name": "stdout",
     "output_type": "stream",
     "text": [
      "0 W\n",
      "1 h\n",
      "2 a\n",
      "3 t\n",
      "4 e\n",
      "5 v\n",
      "6 e\n",
      "7 r\n"
     ]
    }
   ],
   "source": [
    "for i,letter in enumerate(my_string):\n",
    "    print(i, letter)"
   ]
  },
  {
   "cell_type": "code",
   "execution_count": 33,
   "id": "1e6c4b51-31dd-4716-ad62-29327cb871e3",
   "metadata": {
    "collapsed": true,
    "jupyter": {
     "outputs_hidden": true
    }
   },
   "outputs": [
    {
     "data": {
      "text/plain": [
       "'ever'"
      ]
     },
     "execution_count": 33,
     "metadata": {},
     "output_type": "execute_result"
    }
   ],
   "source": [
    "# Slicing:\n",
    "my_string[-4:]"
   ]
  },
  {
   "cell_type": "code",
   "execution_count": 34,
   "id": "3b9c1886-ee75-4284-9a42-b801adea3540",
   "metadata": {
    "collapsed": true,
    "jupyter": {
     "outputs_hidden": true
    }
   },
   "outputs": [
    {
     "data": {
      "text/plain": [
       "5"
      ]
     },
     "execution_count": 34,
     "metadata": {},
     "output_type": "execute_result"
    }
   ],
   "source": [
    "my_string.index('v')"
   ]
  },
  {
   "cell_type": "code",
   "execution_count": 35,
   "id": "23ab83a4-b3b9-405d-a280-8dd0007fbcd8",
   "metadata": {
    "collapsed": true,
    "jupyter": {
     "outputs_hidden": true
    }
   },
   "outputs": [
    {
     "name": "stdout",
     "output_type": "stream",
     "text": [
      "Let's have a complete phrase,\n",
      "with newlines and all.\n"
     ]
    }
   ],
   "source": [
    "my_string = \"Let's have a complete phrase,\\nwith newlines and all.\"\n",
    "print(my_string)"
   ]
  },
  {
   "cell_type": "code",
   "execution_count": 36,
   "id": "9e31db3e-4cc6-4c0f-b45a-bbd50038eafb",
   "metadata": {
    "collapsed": true,
    "jupyter": {
     "outputs_hidden": true
    }
   },
   "outputs": [
    {
     "data": {
      "text/plain": [
       "[\"Let's\",\n",
       " 'have',\n",
       " 'a',\n",
       " 'complete',\n",
       " 'phrase,',\n",
       " 'with',\n",
       " 'newlines',\n",
       " 'and',\n",
       " 'all.']"
      ]
     },
     "execution_count": 36,
     "metadata": {},
     "output_type": "execute_result"
    }
   ],
   "source": [
    "my_string.split()"
   ]
  },
  {
   "cell_type": "code",
   "execution_count": 37,
   "id": "4036ba7e-ad67-4811-b8b5-36449782d342",
   "metadata": {
    "collapsed": true,
    "jupyter": {
     "outputs_hidden": true
    }
   },
   "outputs": [
    {
     "data": {
      "text/plain": [
       "[\"Let's have a complete phrase,\", 'with newlines and all.']"
      ]
     },
     "execution_count": 37,
     "metadata": {},
     "output_type": "execute_result"
    }
   ],
   "source": [
    "my_string.split('\\n')"
   ]
  },
  {
   "cell_type": "code",
   "execution_count": 38,
   "id": "ebb12030-63da-4781-a585-58be892efe0b",
   "metadata": {
    "collapsed": true,
    "jupyter": {
     "outputs_hidden": true
    }
   },
   "outputs": [
    {
     "name": "stdout",
     "output_type": "stream",
     "text": [
      "Let us have a complete phrase,\n",
      "with newlines and all.\n"
     ]
    }
   ],
   "source": [
    "my_string = my_string.replace(\"'s\", \" us\")\n",
    "print(my_string)"
   ]
  },
  {
   "cell_type": "markdown",
   "id": "e95e13ad-a881-4b19-b8a1-74b590443df9",
   "metadata": {},
   "source": [
    "## Bonus: Generators"
   ]
  },
  {
   "cell_type": "code",
   "execution_count": 39,
   "id": "411e5368-4472-4879-ad4c-1ee2444ad13c",
   "metadata": {
    "collapsed": true,
    "jupyter": {
     "outputs_hidden": true
    }
   },
   "outputs": [
    {
     "data": {
      "text/plain": [
       "generator"
      ]
     },
     "execution_count": 39,
     "metadata": {},
     "output_type": "execute_result"
    }
   ],
   "source": [
    "# Another kind of sequence(?) - generators:\n",
    "my_gen = (2**i for i in range(2, 4**5))\n",
    "type(my_gen)"
   ]
  },
  {
   "cell_type": "code",
   "execution_count": 40,
   "id": "6e35257f-0b9c-488b-a82e-0a645594f7d2",
   "metadata": {
    "collapsed": true,
    "jupyter": {
     "outputs_hidden": true
    }
   },
   "outputs": [
    {
     "name": "stdout",
     "output_type": "stream",
     "text": [
      "generator memory size:      112\n",
      "vs\n",
      "list memory size:          8536\n"
     ]
    }
   ],
   "source": [
    "import sys\n",
    "print(f\"{'generator memory size:':<25s} {sys.getsizeof(my_gen):>5d}\"\n",
    "      \"\\nvs\\n\"\n",
    "      f\"{'list memory size:':<25s} {sys.getsizeof(list(my_gen)):>5d}\")"
   ]
  },
  {
   "cell_type": "code",
   "execution_count": 41,
   "id": "e0f549d2-b132-492a-b113-80086ed60155",
   "metadata": {
    "collapsed": true,
    "jupyter": {
     "outputs_hidden": true
    }
   },
   "outputs": [
    {
     "ename": "StopIteration",
     "evalue": "",
     "output_type": "error",
     "traceback": [
      "\u001b[0;31m---------------------------------------------------------------------------\u001b[0m",
      "\u001b[0;31mStopIteration\u001b[0m                             Traceback (most recent call last)",
      "\u001b[0;32m<ipython-input-41-22a9c2454d61>\u001b[0m in \u001b[0;36m<module>\u001b[0;34m\u001b[0m\n\u001b[1;32m      1\u001b[0m \u001b[0;31m# Run this cell multiple times (using Ctrl+Enter)\u001b[0m\u001b[0;34m\u001b[0m\u001b[0;34m\u001b[0m\u001b[0;34m\u001b[0m\u001b[0m\n\u001b[0;32m----> 2\u001b[0;31m \u001b[0mnext\u001b[0m\u001b[0;34m(\u001b[0m\u001b[0mmy_gen\u001b[0m\u001b[0;34m)\u001b[0m\u001b[0;34m\u001b[0m\u001b[0;34m\u001b[0m\u001b[0m\n\u001b[0m",
      "\u001b[0;31mStopIteration\u001b[0m: "
     ]
    }
   ],
   "source": [
    "# Run this cell multiple times (using Ctrl+Enter)\n",
    "next(my_gen)"
   ]
  },
  {
   "cell_type": "markdown",
   "id": "bfd6cd19-59ab-474b-abf8-9b7175628990",
   "metadata": {
    "tags": []
   },
   "source": [
    "## 3.4. List comprehensions\n",
    "\n",
    "A very succint and convinient way of creating new lists from an existing iterable\n",
    "\n",
    "The same way we did for creating the generator, only this time we use the square brackets \"[]\"\n",
    "```Python\n",
    "my_cool_list = [f(x) for x in my_iterable]\n",
    "```\n",
    "Create the new list only from elements satifying given condition (filtered iterable):\n",
    "```Python\n",
    "my_cool_list = [f(x) for x in my_iterable if condition(x)]\n",
    "```\n",
    "**BUT!:** To cover all the cases (condition satisfied or not):\n",
    "```Python\n",
    "my_cool_list = [f(x) if condition(x) else g(x) for x in my_iterable]\n",
    "```\n",
    "If you want to complicate further:\n",
    "```Python\n",
    "my_cool_list = [f(x) if condition1(x) else g(x) for x in my_iterable if condition2(x)]\n",
    "```\n",
    "\n",
    "_There is also the possiblity to loop through two iterables, but have mercy on those who'll read that code.  \n",
    "Hint for the egoists: it may be the 1 year older version of yourself_"
   ]
  },
  {
   "cell_type": "markdown",
   "id": "71b92df8-06f5-486b-b648-5dc214c612f2",
   "metadata": {},
   "source": [
    "## 3.5. Dictionaries & Sets\n",
    "### Dictionary\n",
    "A verastile container whose items are of the form key -> value. For each key there is a value; keys must be immutable, values can be of any type.  \n",
    "_Each key is separated from its value by a colon `:`, the items are separated by commas `,`, and the whole thing is enclosed in curly braces `{}`. An empty dictionary without any items is written with just two curly braces, like this: `{}`._\n",
    "\n",
    "For more info, see for example : https://www.tutorialspoint.com/python/python_dictionary.htm"
   ]
  },
  {
   "cell_type": "code",
   "execution_count": 15,
   "id": "e0117211-d1d3-441f-b4cd-360542fc1981",
   "metadata": {
    "tags": []
   },
   "outputs": [],
   "source": [
    "# The keys are unique\n",
    "my_dict = {\"strawberry\": \"red\", \"apple\": \"green\", \"apple\": \"red\",\n",
    "          \"banana\": \"yellow\", 1: [\"number\", \"integer\", True],\n",
    "           (\"Latitude\", \"Longitude\"): (42.439516, 18.624840)}"
   ]
  },
  {
   "cell_type": "code",
   "execution_count": 16,
   "id": "ed888b9d-e927-4285-9fb9-427014a1da96",
   "metadata": {},
   "outputs": [
    {
     "data": {
      "text/plain": [
       "'red'"
      ]
     },
     "execution_count": 16,
     "metadata": {},
     "output_type": "execute_result"
    }
   ],
   "source": [
    "my_dict[\"apple\"]"
   ]
  },
  {
   "cell_type": "code",
   "execution_count": 17,
   "id": "42d945bb-1fae-4f87-9e54-4fcc5cd11898",
   "metadata": {
    "collapsed": true,
    "jupyter": {
     "outputs_hidden": true
    },
    "tags": []
   },
   "outputs": [
    {
     "ename": "KeyError",
     "evalue": "'location'",
     "output_type": "error",
     "traceback": [
      "\u001b[0;31m---------------------------------------------------------------------------\u001b[0m",
      "\u001b[0;31mKeyError\u001b[0m                                  Traceback (most recent call last)",
      "\u001b[0;32m<ipython-input-17-ba33fea22c55>\u001b[0m in \u001b[0;36m<module>\u001b[0;34m\u001b[0m\n\u001b[0;32m----> 1\u001b[0;31m \u001b[0mmy_dict\u001b[0m\u001b[0;34m[\u001b[0m\u001b[0;34m\"location\"\u001b[0m\u001b[0;34m]\u001b[0m\u001b[0;34m\u001b[0m\u001b[0;34m\u001b[0m\u001b[0m\n\u001b[0m",
      "\u001b[0;31mKeyError\u001b[0m: 'location'"
     ]
    }
   ],
   "source": [
    "my_dict[\"location\"]"
   ]
  },
  {
   "cell_type": "code",
   "execution_count": 19,
   "id": "ad72fec8-1062-4e7e-acae-0a7db5cb564f",
   "metadata": {},
   "outputs": [
    {
     "data": {
      "text/plain": [
       "(48.913021, 2.369157)"
      ]
     },
     "execution_count": 19,
     "metadata": {},
     "output_type": "execute_result"
    }
   ],
   "source": [
    "my_dict.get(\"location\", (48.913021, 2.369157))"
   ]
  },
  {
   "cell_type": "code",
   "execution_count": 20,
   "id": "74314b31-2630-47e5-9f85-75f47d74576e",
   "metadata": {},
   "outputs": [],
   "source": [
    "my_dict[45] = 34.33"
   ]
  },
  {
   "cell_type": "code",
   "execution_count": 37,
   "id": "e897287f-87fb-4de7-a525-dbd8ab2837f2",
   "metadata": {},
   "outputs": [
    {
     "name": "stdout",
     "output_type": "stream",
     "text": [
      "strawberry------------------------------> red\n",
      "apple-----------------------------------> red\n",
      "banana----------------------------------> yellow\n",
      "1---------------------------------------> ['number', 'integer', True]\n",
      "('Latitude', 'Longitude')---------------> (42.439516, 18.62484)\n",
      "45--------------------------------------> 34.33\n"
     ]
    }
   ],
   "source": [
    "for k, v in my_dict.items():\n",
    "    print(f\"{str(k):-<40s}> {v}\")"
   ]
  },
  {
   "cell_type": "markdown",
   "id": "9628cf5d-83e1-4b65-937a-d36f42eec2b5",
   "metadata": {},
   "source": [
    "### Set\n",
    "Keeps only unique elements, order is unpredictable?  \n",
    "Further reading: https://realpython.com/python-sets/"
   ]
  },
  {
   "cell_type": "markdown",
   "id": "03b9f626-9ef0-4cac-b102-65a84605d321",
   "metadata": {},
   "source": [
    "# 4. <a id=\"Functions\"></a>Functions \n",
    "Everything is an object"
   ]
  },
  {
   "cell_type": "code",
   "execution_count": null,
   "id": "7ff54f61-d721-4e16-a242-23c7a4f9b1fb",
   "metadata": {
    "collapsed": true,
    "jupyter": {
     "outputs_hidden": true
    }
   },
   "outputs": [],
   "source": [
    "def my_first_function():\n",
    "    print(\"Bonjour !\")"
   ]
  },
  {
   "cell_type": "code",
   "execution_count": null,
   "id": "32e9dc27-b4a7-4019-8783-d9abdf1f5ec9",
   "metadata": {
    "collapsed": true,
    "jupyter": {
     "outputs_hidden": true
    }
   },
   "outputs": [],
   "source": [
    "my_first_function()"
   ]
  },
  {
   "cell_type": "code",
   "execution_count": null,
   "id": "069413d1-a268-4b81-a394-5ef860c6efca",
   "metadata": {
    "collapsed": true,
    "jupyter": {
     "outputs_hidden": true
    }
   },
   "outputs": [],
   "source": [
    "def my_func(n):\n",
    "    for i in range(n):\n",
    "        my_first_function()"
   ]
  },
  {
   "cell_type": "code",
   "execution_count": null,
   "id": "a05bed59-cb72-4860-926f-7b625a303a02",
   "metadata": {
    "collapsed": true,
    "jupyter": {
     "outputs_hidden": true
    }
   },
   "outputs": [],
   "source": [
    "my_func(5)"
   ]
  },
  {
   "cell_type": "code",
   "execution_count": null,
   "id": "43de1cf2-9f84-45ff-9d78-ca3d3feaf8c0",
   "metadata": {
    "collapsed": true,
    "jupyter": {
     "outputs_hidden": true
    }
   },
   "outputs": [],
   "source": [
    "def calculate_hypothenuse(cathete1, cathete2):\n",
    "    hypothenuse = (cathete1**2 + cathete2**2)**(1/2)\n",
    "    return hypothenuse"
   ]
  },
  {
   "cell_type": "code",
   "execution_count": null,
   "id": "c353f283-22ed-4781-b44e-033a4bffd3ed",
   "metadata": {
    "collapsed": true,
    "jupyter": {
     "outputs_hidden": true
    }
   },
   "outputs": [],
   "source": [
    "calculate_hypothenuse(3, 4)"
   ]
  },
  {
   "cell_type": "markdown",
   "id": "f20c5711-aaf4-488f-97be-d07cd1bbc8e6",
   "metadata": {},
   "source": [
    "------------\n",
    "# 5. <a id=\"Exercises\"></a>Exercises"
   ]
  },
  {
   "cell_type": "markdown",
   "id": "2b02c604-f27e-4057-8e78-41d581fe88ae",
   "metadata": {},
   "source": [
    "### EX.1. Bool:\n",
    "Find the number of students with notes bigger then 16."
   ]
  },
  {
   "cell_type": "code",
   "execution_count": null,
   "id": "8a34e466-7c54-4c13-be06-5c188c3aedcc",
   "metadata": {
    "collapsed": true,
    "jupyter": {
     "outputs_hidden": true
    }
   },
   "outputs": [],
   "source": [
    "import random # Example of a standard library module\n",
    "\n",
    "# The list of student's grades\n",
    "# (integers from 0 to 20 for 200 students):\n",
    "grades_list = [random.randint(0, 20) for i in range(200)]"
   ]
  },
  {
   "cell_type": "code",
   "execution_count": null,
   "id": "5e15430c-7a1d-4d6f-a086-bc9f0be7e7cb",
   "metadata": {
    "collapsed": true,
    "jupyter": {
     "outputs_hidden": true,
     "source_hidden": true
    },
    "tags": []
   },
   "outputs": [],
   "source": [
    "# Run this cell to see the histogram\n",
    "%run \"../snippets/student_notes_histogram.py\" {' '.join(map(str, grades_list))}"
   ]
  },
  {
   "cell_type": "code",
   "execution_count": null,
   "id": "ce45b43f-12f9-4144-9579-ddaeac7e3a6e",
   "metadata": {
    "collapsed": true,
    "jupyter": {
     "outputs_hidden": true
    }
   },
   "outputs": [],
   "source": [
    "# Your solution:\n"
   ]
  },
  {
   "cell_type": "markdown",
   "id": "89606400-42b9-4c0c-b841-9d9f3212e632",
   "metadata": {},
   "source": [
    "Run the next cell (twice) to see the solution:"
   ]
  },
  {
   "cell_type": "code",
   "execution_count": null,
   "id": "732d712a-3c2a-4802-b4ba-07747510b455",
   "metadata": {
    "collapsed": true,
    "jupyter": {
     "outputs_hidden": true
    },
    "tags": []
   },
   "outputs": [],
   "source": [
    "%load \"../snippets/solutions/Ch1Ex1.py\""
   ]
  },
  {
   "cell_type": "markdown",
   "id": "a4bb8a04-e128-4842-88e1-dcd4e9c7f285",
   "metadata": {},
   "source": [
    "### EX.2. List comprehension  \n",
    "Increase by 1 the grade of each student if it's smaller then 20, otherwise leave it at 20"
   ]
  },
  {
   "cell_type": "code",
   "execution_count": null,
   "id": "04bd1ba0-22bc-401a-9eb2-7f68595800c1",
   "metadata": {
    "collapsed": true,
    "jupyter": {
     "outputs_hidden": true
    }
   },
   "outputs": [],
   "source": [
    "# Your solution:\n"
   ]
  },
  {
   "cell_type": "markdown",
   "id": "3688efd8-4cce-46c7-936e-77ee572441ab",
   "metadata": {},
   "source": [
    "Run this next cell (twice) to see the solution"
   ]
  },
  {
   "cell_type": "code",
   "execution_count": null,
   "id": "cdbfa0d4-e733-4da0-8027-febe5a3d7ebb",
   "metadata": {
    "collapsed": true,
    "jupyter": {
     "outputs_hidden": true
    }
   },
   "outputs": [],
   "source": [
    "%load \"../snippets/solutions/Ch1Ex2.py\""
   ]
  },
  {
   "cell_type": "code",
   "execution_count": null,
   "id": "0cc55536-1af0-4f79-9d9e-01d928976108",
   "metadata": {
    "collapsed": true,
    "jupyter": {
     "outputs_hidden": true
    },
    "tags": []
   },
   "outputs": [],
   "source": [
    "# Run this cell to see the histogram\n",
    "%run \"../snippets/student_notes_histogram.py\" {' '.join(map(str, increased_grades_LC))}"
   ]
  },
  {
   "cell_type": "markdown",
   "id": "1f455deb-3539-4b82-abf1-487d1a451b1d",
   "metadata": {},
   "source": [
    "**Bonus** - The same example in numpy"
   ]
  },
  {
   "cell_type": "code",
   "execution_count": null,
   "id": "13efb44c-3c56-4911-97cc-214acc0afe86",
   "metadata": {
    "collapsed": true,
    "jupyter": {
     "outputs_hidden": true
    }
   },
   "outputs": [],
   "source": [
    "import numpy as np # import numpy\n",
    "\n",
    "grades_arr = np.array(grades_list) # Transform the list into a numpy array"
   ]
  },
  {
   "cell_type": "code",
   "execution_count": null,
   "id": "2fda5cdb-74a9-401a-a016-a3f65123a4ce",
   "metadata": {
    "collapsed": true,
    "jupyter": {
     "outputs_hidden": true
    }
   },
   "outputs": [],
   "source": [
    "grades_arr[grades_arr < 20] += 1 # That's all :)"
   ]
  },
  {
   "cell_type": "markdown",
   "id": "69ef6ed2-667a-4983-9a7c-d40d8646c88f",
   "metadata": {},
   "source": [
    "### EX. 3. String manipulation"
   ]
  },
  {
   "cell_type": "code",
   "execution_count": null,
   "id": "e33516c6-f6f6-43cc-bf99-d974187d7472",
   "metadata": {
    "collapsed": true,
    "jupyter": {
     "outputs_hidden": true
    }
   },
   "outputs": [],
   "source": [
    "' '.join([word.capitalize() for word in my_string.split()])"
   ]
  },
  {
   "cell_type": "markdown",
   "id": "64307751-3f5e-4d8f-9451-6906f5ed4086",
   "metadata": {},
   "source": [
    "Try to do the same as above, but capitalize only the last letter of each word."
   ]
  },
  {
   "cell_type": "code",
   "execution_count": null,
   "id": "590a7019-3f2a-4af5-9fde-eb73d71e1456",
   "metadata": {
    "collapsed": true,
    "jupyter": {
     "outputs_hidden": true
    }
   },
   "outputs": [],
   "source": [
    "# Your solution:\n"
   ]
  },
  {
   "cell_type": "code",
   "execution_count": null,
   "id": "928c2919-2837-4cef-82d7-433918196337",
   "metadata": {
    "collapsed": true,
    "jupyter": {
     "outputs_hidden": true
    },
    "tags": []
   },
   "outputs": [],
   "source": [
    "%load \"../snippets/solutions/BackwardCapitalization.py\""
   ]
  },
  {
   "cell_type": "markdown",
   "id": "3f5efab7-7e91-4c6d-b997-35dfe0b1d13f",
   "metadata": {},
   "source": [
    "### EX. 4. Fibonacci sequence\n",
    "\n",
    "Write a function that displays the n first terms of the Fibonacci sequence, defined by:\n",
    "\n",
    "$ u_0 = 1; u_1 = 1$\n",
    "\n",
    "$u_{n+2} = u_{n+1} + u_n$"
   ]
  },
  {
   "cell_type": "code",
   "execution_count": null,
   "id": "94058735-14e3-4fa9-9e1b-5a77582876a6",
   "metadata": {},
   "outputs": [],
   "source": []
  }
 ],
 "metadata": {
  "kernelspec": {
   "display_name": "3D",
   "language": "python",
   "name": "3d"
  },
  "language_info": {
   "codemirror_mode": {
    "name": "ipython",
    "version": 3
   },
   "file_extension": ".py",
   "mimetype": "text/x-python",
   "name": "python",
   "nbconvert_exporter": "python",
   "pygments_lexer": "ipython3",
   "version": "3.8.5"
  }
 },
 "nbformat": 4,
 "nbformat_minor": 5
}
